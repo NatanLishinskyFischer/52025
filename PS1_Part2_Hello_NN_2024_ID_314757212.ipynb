{
  "cells": [
    {
      "cell_type": "markdown",
      "metadata": {
        "id": "LuoXusr9B3nd"
      },
      "source": [
        "# PS1: Your first library-free neural network!  \n",
        "\n",
        "Advanced Learning 2024\n"
      ]
    },
    {
      "cell_type": "markdown",
      "metadata": {
        "id": "fRYKvBtcZj44"
      },
      "source": [
        "For SUBMISSION:   \n",
        "\n",
        "Please upload the complete and executed `ipynb` to your git repository. Verify that all of your output can be viewed directly from github, and provide a link to that git file below.\n",
        "\n",
        "~~~\n",
        "STUDENT ID: 314757212\n",
        "~~~\n",
        "\n",
        "~~~\n",
        "STUDENT GIT LINK: https://github.com/NatanLishinskyFischer/52025\n",
        "~~~\n",
        "In Addition, don't forget to add your ID to the files:    \n",
        "  \n",
        "`PS1_Part2_HelloNN_2024_ID_[000000000].html`   \n"
      ]
    },
    {
      "cell_type": "code",
      "execution_count": null,
      "metadata": {
        "id": "X2ZxCWBO_IIT"
      },
      "outputs": [],
      "source": [
        "import numpy as np # You are allowed to use only numpy.\n",
        "import time"
      ]
    },
    {
      "cell_type": "markdown",
      "metadata": {
        "id": "CnAz84ZL_9XQ"
      },
      "source": [
        "\n",
        "**Welcome**.   \n",
        "\n",
        "In this part of the problem set you are set to build a complete and flexible neural network.  \n",
        "This neural network will be library free (in the sense that we won't use PyTorch/Tensorflow/etc.).   \n",
        "\n",
        "Let's do a quick review of the basic neural-network components:  \n",
        "\n",
        "\n",
        "*   *Layer* - can be fully connected (dense/hidden), convolution, etc.\n",
        "  * Forward propagation- the layer outputs the next layer's input\n",
        "  * Backward propagation- the layer also outputs the gradient descent update\n",
        "*   *Activation* Layer (e.g. ReLU) - there are no parameters, only gradients with respect to the input. We want to compute both the gradient w.r.t the parameters of the layer and to create the gradient with respect to the layer's inputs\n",
        "   * *Forward propagation*- the layer outputs the next layer's input\n",
        "   * *Backward propagation*- the layer also outputs the gradient descent update\n",
        "*   *Loss Function* : how our model  quantifies the difference between the predicted outputs the actual (target) values  \n",
        "*   *Network Wrapper*-  wraps our components together as a trainable model.\n",
        "\n",
        "\n",
        "\n",
        "\n"
      ]
    },
    {
      "cell_type": "markdown",
      "metadata": {
        "id": "ncQsamml85JG"
      },
      "source": [
        "Useful resource:  \n",
        "* Gradient descent for neural networks [cheat sheet](https://moodle4.cs.huji.ac.il/hu23/mod/resource/view.php?id=402297).\n",
        "* Neural network architecture [cheat sheet](https://moodle4.cs.huji.ac.il/hu23/mod/url/view.php?id=402298)."
      ]
    },
    {
      "cell_type": "markdown",
      "metadata": {
        "id": "P11k0GECXiR-"
      },
      "source": [
        "### 0. Loading data"
      ]
    },
    {
      "cell_type": "markdown",
      "metadata": {
        "id": "lwLDOo7IXfcI"
      },
      "source": [
        "You are going to test and evaluate your home-made network on the `mnist` dataset.   \n",
        "The MNIST dataset is a large dataset of handwritten digits that is commonly used for training various image and vision models."
      ]
    },
    {
      "cell_type": "code",
      "execution_count": null,
      "metadata": {
        "colab": {
          "base_uri": "https://localhost:8080/"
        },
        "id": "RIxpddzDXgBN",
        "outputId": "62471ff3-74e4-4d8f-e465-e1c35bdffec7"
      },
      "outputs": [
        {
          "name": "stdout",
          "output_type": "stream",
          "text": [
            "Downloading data from https://storage.googleapis.com/tensorflow/tf-keras-datasets/mnist.npz\n",
            "\u001b[1m11490434/11490434\u001b[0m \u001b[32m━━━━━━━━━━━━━━━━━━━━\u001b[0m\u001b[37m\u001b[0m \u001b[1m0s\u001b[0m 0us/step\n"
          ]
        }
      ],
      "source": [
        "from keras.datasets import mnist\n",
        "from keras.utils import to_categorical\n",
        "# load MNIST from server\n",
        "# Using a standard library (keras.datasets) to load the mnist data\n",
        "(x_train, y_train), (x_test, y_test) = mnist.load_data()"
      ]
    },
    {
      "cell_type": "markdown",
      "metadata": {
        "id": "B_yaFDAtXj1h"
      },
      "source": [
        "#### Data transformations\n",
        "\n",
        "\n",
        "\n"
      ]
    },
    {
      "cell_type": "code",
      "execution_count": null,
      "metadata": {
        "id": "3PooYSGAgY4v"
      },
      "outputs": [],
      "source": [
        "# training data : 60000 samples\n",
        "# reshape and normalize input data\n",
        "x_train = x_train.reshape(x_train.shape[0], 1, 28*28)\n",
        "x_train = x_train.astype('float32')\n",
        "x_train /= 255\n",
        "# One-hot encoding of the output.\n",
        "# Currently a number in range [0,9]; Change into a vector of size 10\n",
        "# e.g. number 3 will become [0, 0, 0, 1, 0, 0, 0, 0, 0, 0]\n",
        "y_train = to_categorical(y_train)\n",
        "# same for test data : 10000 samples\n",
        "x_test = x_test.reshape(x_test.shape[0], 1, 28*28)\n",
        "x_test = x_test.astype('float32')\n",
        "x_test /= 255\n",
        "y_test = to_categorical(y_test)"
      ]
    },
    {
      "cell_type": "markdown",
      "metadata": {
        "id": "q8HGS8h1uXAD"
      },
      "source": [
        "### 1. Network's Components"
      ]
    },
    {
      "cell_type": "markdown",
      "metadata": {
        "id": "Hda7HDt6NMg1"
      },
      "source": [
        "Please fill-in the missing code in the code boxes below (only where  `#### SOLUTION REQUIRED ####` is specified).   "
      ]
    },
    {
      "cell_type": "code",
      "execution_count": null,
      "metadata": {
        "id": "zi3-57RaG-YW"
      },
      "outputs": [],
      "source": [
        "\n",
        "# This class is a general layer primitive, defining that each instance must\n",
        "# have an (input,output) parameters, and 2 functions: forward+backward propogation\n",
        "class Layer_Primitive:\n",
        "    def __init__(self):\n",
        "        self.input = None\n",
        "        self.output = None\n",
        "\n",
        "    # computes the output Y of a layer for a given input X\n",
        "    def forward_propagation(self, input):\n",
        "        raise NotImplementedError\n",
        "\n",
        "    # computes dE/dX for a given dE/dY (and update parameters if any)\n",
        "    def backward_propagation(self, output_error, learning_rate):\n",
        "        raise NotImplementedError"
      ]
    },
    {
      "cell_type": "markdown",
      "metadata": {
        "id": "kFrfWvZFoxGz"
      },
      "source": [
        "#### Fully Connected Layer"
      ]
    },
    {
      "cell_type": "markdown",
      "metadata": {
        "id": "fZnNmnfjDqBg"
      },
      "source": [
        "A fully-connected layer (a.k.a. affine, dense,linear layer) connects every input neuron to every output neuron.   \n",
        "It has 2 parameters: (input, output).   \n",
        "You need to define (code) the following:\n",
        "* its initialization weights with random weights.\n",
        "* the forward propogation calculation (as shown in class).\n",
        "* the backward propogation gradients calculation (given output, as shown in class).\n",
        "\n",
        "Parameters must be intitialized with some values. There are many ways to initialize the weights, and you are encouraged to do a quick research about the common methods. Any commonly used method will be accepted.  "
      ]
    },
    {
      "cell_type": "markdown",
      "metadata": {
        "id": "b2vegoAGNSdm"
      },
      "source": [
        "1.1 (20 pts)"
      ]
    },
    {
      "cell_type": "code",
      "execution_count": null,
      "metadata": {
        "id": "1oPtObGHL0qA"
      },
      "outputs": [],
      "source": [
        "class Affine_Layer(Layer_Primitive):\n",
        "    def __init__(self, input_size, output_size):\n",
        "        self.weights = np.random.randn(input_size, output_size) * np.sqrt(2 / (input_size + output_size))\n",
        "        self.bias = np.zeros((1, output_size))\n",
        "\n",
        "    def forward_propagation(self, input_data):\n",
        "        self.input = input_data\n",
        "        self.output = np.dot(self.input, self.weights) + self.bias\n",
        "        return self.output\n",
        "\n",
        "    def backward_propagation(self, output_grad, learning_rate):\n",
        "        weights_error = np.dot(self.input.T, output_grad)\n",
        "        bias_error = np.sum(output_grad, axis=0, keepdims=True)\n",
        "        input_error = np.dot(output_grad, self.weights.T)\n",
        "\n",
        "        # Update parameters\n",
        "        self.weights -= learning_rate * weights_error\n",
        "        self.bias -= learning_rate * bias_error\n",
        "\n",
        "        return input_error\n"
      ]
    },
    {
      "cell_type": "markdown",
      "metadata": {
        "id": "Uktf9H2UuhYR"
      },
      "source": [
        "#### Activation layers"
      ]
    },
    {
      "cell_type": "markdown",
      "metadata": {
        "id": "nbjwalPGEgLy"
      },
      "source": [
        "Activation functions are often a non-linear functions that aid in how well the network model adapts to and learns  the training dataset. The choice of activation function in the output layer will define the type of predictions the model can make.  \n",
        "\n"
      ]
    },
    {
      "cell_type": "code",
      "execution_count": null,
      "metadata": {
        "id": "Mg5f_-ikVMzi"
      },
      "outputs": [],
      "source": [
        "# inherit from base class Layer\n",
        "class ActivationLayer(Layer_Primitive):\n",
        "    def __init__(self, activation, activation_grad):\n",
        "        self.activation = activation\n",
        "        self.activation_grad = activation_grad\n",
        "\n",
        "    # returns the activated input\n",
        "    def forward_propagation(self, input_data):\n",
        "        self.input = input_data\n",
        "        self.output = self.activation(self.input)\n",
        "        return self.output\n",
        "\n",
        "    # Returns input_error=dE/dX for a given output_grad=dE/dY.\n",
        "    # learning_rate is not used because there is no \"learnable\" parameters.\n",
        "    def backward_propagation(self, output_grad, learning_rate):\n",
        "        return self.activation_grad(self.input) * output_grad\n"
      ]
    },
    {
      "cell_type": "markdown",
      "metadata": {
        "id": "FaB7AX-aFP1j"
      },
      "source": [
        "\n",
        "You need to define (code) the following via different functions:\n",
        "* the forward propogation calculation (as shown in class).\n",
        "* the backward propogation gradients calculation (given output, as shown in class)."
      ]
    },
    {
      "cell_type": "markdown",
      "metadata": {
        "id": "fbvilWixNaro"
      },
      "source": [
        "1.2 (20 pts)"
      ]
    },
    {
      "cell_type": "code",
      "execution_count": null,
      "metadata": {
        "id": "4-M9-LPBgBTB"
      },
      "outputs": [],
      "source": [
        "def tanh(x):\n",
        "    return np.tanh(x)\n",
        "\n",
        "def tanh_grad(x):\n",
        "    return 1 - np.tanh(x)**2\n",
        "\n",
        "def relu(x):\n",
        "    return np.maximum(0, x)\n",
        "\n",
        "def relu_grad(x):\n",
        "    return np.where(x > 0, 1, 0)\n",
        "\n",
        "def sigmoid(x):\n",
        "    return 1 / (1 + np.exp(-x))\n",
        "\n",
        "def sigmoid_grad(x):\n",
        "    sig = sigmoid(x)\n",
        "    return sig * (1 - sig)"
      ]
    },
    {
      "cell_type": "markdown",
      "metadata": {
        "id": "s3RBktf7uowi"
      },
      "source": [
        "#### Loss function"
      ]
    },
    {
      "cell_type": "markdown",
      "metadata": {
        "id": "RgZ4SRFkG_Sj"
      },
      "source": [
        "1.3 (10 pts)"
      ]
    },
    {
      "cell_type": "code",
      "execution_count": null,
      "metadata": {
        "id": "uo_FcJrYgQaB"
      },
      "outputs": [],
      "source": [
        "def mse(y_true, y_pred):\n",
        "    return np.mean((y_true - y_pred)**2)\n",
        "\n",
        "def mse_grad(y_true, y_pred):\n",
        "    return -2 * (y_true - y_pred) / y_true.size"
      ]
    },
    {
      "cell_type": "markdown",
      "metadata": {
        "id": "V4jPsOT9uy-_"
      },
      "source": [
        "#### Putting everything together"
      ]
    },
    {
      "cell_type": "markdown",
      "metadata": {
        "id": "fEK-tOfrNhO_"
      },
      "source": [
        "1.4 (10 pts)"
      ]
    },
    {
      "cell_type": "code",
      "execution_count": null,
      "metadata": {
        "id": "fMwSnK5pgV9Y"
      },
      "outputs": [],
      "source": [
        "#### SOLUTION REQUIRED (in `predict`) ####\n",
        "\n",
        "class MyNetwork:\n",
        "    def __init__(self):\n",
        "        self.layers = []\n",
        "        self.loss = None\n",
        "        self.loss_grad = None\n",
        "\n",
        "    # add layer to network\n",
        "    def add(self, layer):\n",
        "        self.layers.append(layer)\n",
        "\n",
        "    # set loss to use\n",
        "    def use_loss(self, loss, loss_grad):\n",
        "        self.loss = loss\n",
        "        self.loss_grad = loss_grad\n",
        "\n",
        "\n",
        "    # train the network\n",
        "    def fit(self, x_train, y_train, epochs, learning_rate):\n",
        "        # sample dimension first\n",
        "        samples = len(x_train)\n",
        "\n",
        "        # training loop\n",
        "        for i in range(epochs):\n",
        "            err = 0\n",
        "            for j in range(samples):\n",
        "                # forward propagation\n",
        "                output = x_train[j]\n",
        "                for layer in self.layers:\n",
        "                    output = layer.forward_propagation(output)\n",
        "\n",
        "                # compute loss (for display purpose only)\n",
        "                err += self.loss(y_train[j], output)\n",
        "\n",
        "                # backward propagation\n",
        "                grad = self.loss_grad(y_train[j], output)\n",
        "                for layer in reversed(self.layers):\n",
        "                    grad = layer.backward_propagation(grad, learning_rate)\n",
        "\n",
        "            # calculate average error on all samples\n",
        "            err /= samples\n",
        "            print('Training epoch %d/%d   error=%f' % (i+1, epochs, err))\n",
        "\n",
        "\n",
        "    # predict output for given input\n",
        "    def predict(self, x_test,y_test=np.array([])):\n",
        "        if y_test.size:\n",
        "           assert len(x_test)==len(y_test)\n",
        "        samples = len(x_test)\n",
        "        result = []\n",
        "        loss = 0\n",
        "        correct = 0\n",
        "        for i in range(samples):\n",
        "            output = x_test[i]\n",
        "            for layer in self.layers:\n",
        "                output = layer.forward_propagation(output)\n",
        "            result.append(output)\n",
        "            if y_test.size:\n",
        "                loss += self.loss(y_test[i], output)\n",
        "                target = y_test[i]\n",
        "                predicted_label = np.argmax(output)\n",
        "                true_label = np.argmax(target)\n",
        "                if predicted_label == true_label:\n",
        "                    correct += 1\n",
        "\n",
        "        if y_test.size:\n",
        "            mean_loss = loss/samples\n",
        "\n",
        "            print('\\nTest set: Avg. loss: {:.4f}, Accuracy: {}/{} ({:.0f}%)\\n'.\n",
        "                  format(mean_loss, correct, samples,100. * correct / samples))\n",
        "\n",
        "        return result\n"
      ]
    },
    {
      "cell_type": "markdown",
      "metadata": {
        "id": "dCXXcALGXSRb"
      },
      "source": [
        "## 2. Testing Your Neural Network"
      ]
    },
    {
      "cell_type": "markdown",
      "metadata": {
        "id": "KotuuqWKXt2r"
      },
      "source": [
        "### Defining our main neural network architecture"
      ]
    },
    {
      "cell_type": "markdown",
      "metadata": {
        "id": "wzatylPzQIdR"
      },
      "source": [
        "Define your network's architecture:  \n",
        "(Please rationalize your choice of activation funciton.)\n",
        "* first affine layer that takes your input and outputs 128 nodes\n",
        "* `tanh/relu/sigmoid` activation layer following the first affine layer\n",
        "* second affine layer that takes the first layer's input and outputs 64 nodes\n",
        "* `tanh/relu/sigmoid` activation layer following the second affine layer\n",
        "* third affine layer that takes your second layer's input and outputs nodes in the size of the Y labels.\n",
        "* `tanh/relu/sigmoid` activation layer following the last affine layer\n"
      ]
    },
    {
      "cell_type": "markdown",
      "metadata": {
        "id": "kSwlLJXWNqii"
      },
      "source": [
        "2.1 (5 pts)"
      ]
    },
    {
      "cell_type": "code",
      "execution_count": null,
      "metadata": {
        "id": "_O9Mi5Qmuvlp"
      },
      "outputs": [],
      "source": [
        "net = MyNetwork()\n",
        "net.add(Affine_Layer(input_size=784, output_size=128))\n",
        "net.add(ActivationLayer(activation=relu, activation_grad=relu_grad))\n",
        "net.add(Affine_Layer(input_size=128, output_size=64))\n",
        "net.add(ActivationLayer(activation=relu, activation_grad=relu_grad))\n",
        "net.add(Affine_Layer(input_size=64, output_size=10))\n",
        "net.add(ActivationLayer(activation=sigmoid, activation_grad=sigmoid_grad))\n"
      ]
    },
    {
      "cell_type": "markdown",
      "metadata": {
        "id": "o8_5gnOuuxWC"
      },
      "source": [
        "### Training!"
      ]
    },
    {
      "cell_type": "code",
      "execution_count": null,
      "metadata": {
        "colab": {
          "background_save": true,
          "base_uri": "https://localhost:8080/"
        },
        "id": "QhWuBFBfg3SB",
        "outputId": "baf76cc1-e5f4-4e8b-be4a-54aa51cf66a0"
      },
      "outputs": [
        {
          "name": "stdout",
          "output_type": "stream",
          "text": [
            "Training epoch 1/20   error=0.031107\n",
            "Training epoch 2/20   error=0.014508\n",
            "Training epoch 3/20   error=0.011642\n",
            "Training epoch 4/20   error=0.009937\n",
            "Training epoch 5/20   error=0.008753\n",
            "Training epoch 6/20   error=0.007853\n",
            "Training epoch 7/20   error=0.007134\n",
            "Training epoch 8/20   error=0.006541\n",
            "Training epoch 9/20   error=0.006047\n",
            "Training epoch 10/20   error=0.005625\n",
            "Training epoch 11/20   error=0.005261\n",
            "Training epoch 12/20   error=0.004944\n",
            "Training epoch 13/20   error=0.004664\n",
            "Training epoch 14/20   error=0.004414\n",
            "Training epoch 15/20   error=0.004187\n",
            "Training epoch 16/20   error=0.003983\n",
            "Training epoch 17/20   error=0.003796\n",
            "Training epoch 18/20   error=0.003622\n",
            "Training epoch 19/20   error=0.003460\n",
            "Training epoch 20/20   error=0.003309\n",
            "Total process time: 1085.388\n"
          ]
        }
      ],
      "source": [
        "\n",
        "# While developing, it is recommended to train your model on a subset of the data... / or low epochs.\n",
        "# as we didn't implemented mini-batch GD, training will be pretty slow if we update at each iteration on 60000 samples...\n",
        "net.use_loss(mse, mse_grad)\n",
        "epoch_num = 20\n",
        "lr = 0.01\n",
        "t1 = time.time()\n",
        "net.fit(x_train, y_train, epochs=epoch_num, learning_rate=lr)\n",
        "print(f\"Total process time: {round(time.time() - t1,3)}\")\n"
      ]
    },
    {
      "cell_type": "markdown",
      "metadata": {
        "id": "kXwnmpjlu5sa"
      },
      "source": [
        "### Evaluation"
      ]
    },
    {
      "cell_type": "markdown",
      "metadata": {
        "id": "Hhz13JznTujh"
      },
      "source": [
        "Exciting! Now is the time to test your model.   \n",
        "\n",
        "    May the gradients be always in your favor."
      ]
    },
    {
      "cell_type": "code",
      "execution_count": 13,
      "metadata": {
        "colab": {
          "base_uri": "https://localhost:8080/"
        },
        "id": "BHDYRUoq54Fk",
        "outputId": "0909bf3b-2bfe-4db9-a7d7-49e90554596b"
      },
      "outputs": [
        {
          "output_type": "stream",
          "name": "stdout",
          "text": [
            "\n",
            "Test set: Avg. loss: 0.0046, Accuracy: 9739/10000 (97%)\n",
            "\n"
          ]
        }
      ],
      "source": [
        "output = net.predict(x_test ,y_test )"
      ]
    },
    {
      "cell_type": "markdown",
      "metadata": {
        "id": "S9HEZ6ElvVVj"
      },
      "source": [
        "## 3. Benchmarking against PyTorch"
      ]
    },
    {
      "cell_type": "markdown",
      "metadata": {
        "id": "Z-0UWnaYUNz7"
      },
      "source": [
        "How well your model performs against a similar-architecture PyTorch model?   \n",
        "It is time to find out:"
      ]
    },
    {
      "cell_type": "code",
      "execution_count": 14,
      "metadata": {
        "id": "R2TeiObsnBr1"
      },
      "outputs": [],
      "source": [
        "import torch\n",
        "import torch.nn as nn\n",
        "import torch.nn.functional as F\n",
        "from torch.utils.data import TensorDataset"
      ]
    },
    {
      "cell_type": "markdown",
      "metadata": {
        "id": "-h8cCoV3ZSkt"
      },
      "source": [
        "#### Prepare the data as tensors using PyTorch DataLoader:"
      ]
    },
    {
      "cell_type": "code",
      "execution_count": 15,
      "metadata": {
        "id": "1rqwlzUIvFCZ"
      },
      "outputs": [],
      "source": [
        "t_train =  TensorDataset(torch.Tensor(x_train),torch.Tensor(y_train))\n",
        "t_test =  TensorDataset(torch.Tensor(x_test),torch.Tensor(y_test))\n",
        "train_loader = torch.utils.data.DataLoader(dataset=t_train, batch_size=64, shuffle=True)\n",
        "test_loader = torch.utils.data.DataLoader(dataset=t_test, batch_size=64, shuffle=False)"
      ]
    },
    {
      "cell_type": "markdown",
      "metadata": {
        "id": "0Ngm-Gv_UsCV"
      },
      "source": [
        "Define a `PyTorchNet` class with an identical architecture you used in your home-made network."
      ]
    },
    {
      "cell_type": "markdown",
      "metadata": {
        "id": "mJBs2JsyNxid"
      },
      "source": [
        "3.1 (10 pts)"
      ]
    },
    {
      "cell_type": "code",
      "execution_count": 17,
      "metadata": {
        "id": "4Ed2P1LmUpgS"
      },
      "outputs": [],
      "source": [
        "import torch\n",
        "import torch.nn as nn\n",
        "import torch.nn.functional as F\n",
        "\n",
        "class PyTorchNet(nn.Module):\n",
        "    def __init__(self, input_size=784, num_classes=10):\n",
        "        super(PyTorchNet, self).__init__()\n",
        "        self.al1 = nn.Linear(input_size, 128)\n",
        "        self.activ1 = nn.ReLU()\n",
        "        self.al2 = nn.Linear(128, 64)\n",
        "        self.activ2 = nn.ReLU()\n",
        "        self.al3 = nn.Linear(64, num_classes)\n",
        "        self.activ3 = nn.Sigmoid()\n",
        "\n",
        "\n",
        "    def forward(self, x):\n",
        "        x = x.view(-1, 28 * 28)\n",
        "        x = self.al1(x)\n",
        "        x = self.activ1(x)\n",
        "        x = self.al2(x)\n",
        "        x = self.activ2(x)\n",
        "        x = self.al3(x)\n",
        "        x = self.activ3(x)\n",
        "\n",
        "        return x\n"
      ]
    },
    {
      "cell_type": "code",
      "execution_count": 18,
      "metadata": {
        "colab": {
          "base_uri": "https://localhost:8080/"
        },
        "id": "fG-8BEdDlL4L",
        "outputId": "749d991b-6cfb-4f31-e66c-2b1ffe53244a"
      },
      "outputs": [
        {
          "output_type": "stream",
          "name": "stdout",
          "text": [
            "Epoch [1/20], Step [500/938], Loss: 0.1000\n",
            "Epoch [2/20], Step [500/938], Loss: 0.1000\n",
            "Epoch [3/20], Step [500/938], Loss: 0.1781\n",
            "Epoch [4/20], Step [500/938], Loss: 0.1813\n",
            "Epoch [5/20], Step [500/938], Loss: 0.1813\n",
            "Epoch [6/20], Step [500/938], Loss: 0.1906\n",
            "Epoch [7/20], Step [500/938], Loss: 0.1844\n",
            "Epoch [8/20], Step [500/938], Loss: 0.1688\n",
            "Epoch [9/20], Step [500/938], Loss: 0.1781\n",
            "Epoch [10/20], Step [500/938], Loss: 0.1625\n",
            "Epoch [11/20], Step [500/938], Loss: 0.1875\n",
            "Epoch [12/20], Step [500/938], Loss: 0.1781\n",
            "Epoch [13/20], Step [500/938], Loss: 0.1750\n",
            "Epoch [14/20], Step [500/938], Loss: 0.1562\n",
            "Epoch [15/20], Step [500/938], Loss: 0.1844\n",
            "Epoch [16/20], Step [500/938], Loss: 0.1719\n",
            "Epoch [17/20], Step [500/938], Loss: 0.1906\n",
            "Epoch [18/20], Step [500/938], Loss: 0.1781\n",
            "Epoch [19/20], Step [500/938], Loss: 0.1750\n",
            "Epoch [20/20], Step [500/938], Loss: 0.1656\n"
          ]
        }
      ],
      "source": [
        "# Train the model\n",
        "num_epochs = 20\n",
        "pt_learning_rate = 0.01\n",
        "pt_network = PyTorchNet()\n",
        "optimizer = torch.optim.Adam(pt_network.parameters(), lr=pt_learning_rate)\n",
        "criterion = nn.MSELoss()\n",
        "\n",
        "for epoch in range(num_epochs):\n",
        "    for i, (images, labels) in enumerate(train_loader):\n",
        "        # Forward pass\n",
        "        outputs = pt_network(images)\n",
        "        loss = criterion(outputs, labels)\n",
        "        # Backward pass and optimize\n",
        "        optimizer.zero_grad()\n",
        "        loss.backward()\n",
        "        optimizer.step()\n",
        "        # A handy printout:\n",
        "        if (i + 1) % 500 == 0:\n",
        "            print(f'Epoch [{epoch+1}/{num_epochs}], Step [{i+1}/{len(train_loader)}], Loss: {loss.item():.4f}')\n"
      ]
    },
    {
      "cell_type": "markdown",
      "metadata": {
        "id": "L3rFfBfaV3Gt"
      },
      "source": [
        "Evaluation:"
      ]
    },
    {
      "cell_type": "code",
      "execution_count": 19,
      "metadata": {
        "colab": {
          "base_uri": "https://localhost:8080/"
        },
        "id": "RsfDSk2IrXst",
        "outputId": "cda95cbe-868b-46ba-8d19-a0dd0c48e41f"
      },
      "outputs": [
        {
          "output_type": "stream",
          "name": "stdout",
          "text": [
            "\n",
            "Test set: Avg. loss: 0.0028, Accuracy: 1028/10000 (10%)\n",
            "\n"
          ]
        }
      ],
      "source": [
        "pt_network.eval()\n",
        "test_losses = []\n",
        "test_loss = 0\n",
        "correct = 0\n",
        "with torch.no_grad():\n",
        "    for data, target in test_loader:\n",
        "        output = pt_network(data)\n",
        "        test_loss += criterion(output, target,)\n",
        "        pred = output.data.max(1, keepdim=True)[1]\n",
        "        correct += pred.eq(target.data.max(1,keepdim=True)[1]).sum()\n",
        "\n",
        "test_loss /= len(test_loader.dataset)\n",
        "test_losses.append(test_loss)\n",
        "print('\\nTest set: Avg. loss: {:.4f}, Accuracy: {}/{} ({:.0f}%)\\n'.format(\n",
        "  test_loss, correct, len(test_loader.dataset),\n",
        "  100. * correct / len(test_loader.dataset)))"
      ]
    },
    {
      "cell_type": "markdown",
      "metadata": {
        "id": "EyKXHGW3XsAN"
      },
      "source": [
        "3.2 (10 pts)"
      ]
    },
    {
      "cell_type": "markdown",
      "metadata": {
        "id": "dI13KBVgrBkc"
      },
      "source": [
        "Time for some questions:\n",
        "1. Which one of the models performed better? Why?\n",
        "2. Which one of the models performed faster? Why?  \n",
        "3. What would you change in your network's architecture?   \n",
        "4. What would you change in your model's solution algorithm?\n"
      ]
    },
    {
      "cell_type": "markdown",
      "metadata": {
        "id": "cb6AMtbuXvSR"
      },
      "source": [
        "Write your solutions here:\n",
        "\n",
        "It seems that my model performed better, but the PyTorch performed much faster. This could be due to smaller batches or less layers. The larger the batches the more accurately the NN learns, but it takes much longer. The same with the number of layers.\n",
        "I could adjust the hidden layers sizes or try batch normalization. Regarding the model's solution, I could experiment with other optimizers or play with the learning rates"
      ]
    },
    {
      "cell_type": "markdown",
      "metadata": {
        "id": "mmJYjygWrCAg"
      },
      "source": [
        "## 4. The Network Wars!"
      ]
    },
    {
      "cell_type": "markdown",
      "metadata": {
        "id": "y_bdbde5Wj-y"
      },
      "source": [
        "Here is your chance to play with your model's architecture in order to break your own benchmark set eariler.  \n",
        "You can add/remove layers, play with their sizes, types, etc.   \n",
        "You can add a new loss if you wish, or anything else that will fairly give your model an advantage over base.  "
      ]
    },
    {
      "cell_type": "markdown",
      "metadata": {
        "id": "oG2hhaeyN59O"
      },
      "source": [
        "4.1 (15 pts)"
      ]
    },
    {
      "cell_type": "code",
      "execution_count": 20,
      "metadata": {
        "colab": {
          "base_uri": "https://localhost:8080/"
        },
        "id": "1EsyNK77rGcG",
        "outputId": "578ec21c-55d6-42b2-e66c-c49a7b659853"
      },
      "outputs": [
        {
          "output_type": "stream",
          "name": "stdout",
          "text": [
            "Training epoch 1/20   error=0.032539\n",
            "Training epoch 2/20   error=0.013016\n",
            "Training epoch 3/20   error=0.010056\n",
            "Training epoch 4/20   error=0.008369\n",
            "Training epoch 5/20   error=0.007188\n",
            "Training epoch 6/20   error=0.006304\n",
            "Training epoch 7/20   error=0.005614\n",
            "Training epoch 8/20   error=0.005052\n",
            "Training epoch 9/20   error=0.004584\n",
            "Training epoch 10/20   error=0.004190\n",
            "Training epoch 11/20   error=0.003850\n",
            "Training epoch 12/20   error=0.003549\n",
            "Training epoch 13/20   error=0.003284\n",
            "Training epoch 14/20   error=0.003052\n",
            "Training epoch 15/20   error=0.002848\n",
            "Training epoch 16/20   error=0.002664\n",
            "Training epoch 17/20   error=0.002501\n",
            "Training epoch 18/20   error=0.002354\n",
            "Training epoch 19/20   error=0.002216\n",
            "Training epoch 20/20   error=0.002090\n",
            "Total process time: 1137.705\n"
          ]
        }
      ],
      "source": [
        "net = MyNetwork()\n",
        "net.add(Affine_Layer(input_size=784, output_size=128))\n",
        "net.add(ActivationLayer(activation=relu, activation_grad=relu_grad))\n",
        "net.add(Affine_Layer(input_size=128, output_size=64))\n",
        "net.add(ActivationLayer(activation=relu, activation_grad=relu_grad))\n",
        "\n",
        "## I will add a layer here\n",
        "net.add(Affine_Layer(input_size=64, output_size=32))\n",
        "net.add(ActivationLayer(activation=relu, activation_grad=relu_grad))\n",
        "\n",
        "net.add(Affine_Layer(input_size=32, output_size=10))\n",
        "net.add(ActivationLayer(activation=sigmoid, activation_grad=sigmoid_grad))\n",
        "\n",
        "\n",
        "# While developing, it is recommended to train your model on a subset of the data... / or low epochs.\n",
        "# as we didn't implemented mini-batch GD, training will be pretty slow if we update at each iteration on 60000 samples...\n",
        "net.use_loss(mse, mse_grad)\n",
        "epoch_num = 20\n",
        "lr = 0.01\n",
        "t1 = time.time()\n",
        "net.fit(x_train, y_train, epochs=epoch_num, learning_rate=lr)\n",
        "print(f\"Total process time: {round(time.time() - t1,3)}\")\n"
      ]
    },
    {
      "cell_type": "code",
      "execution_count": null,
      "metadata": {
        "id": "dmKI8LufRTgw"
      },
      "outputs": [],
      "source": []
    }
  ],
  "metadata": {
    "colab": {
      "provenance": []
    },
    "kernelspec": {
      "display_name": "Python 3 (ipykernel)",
      "language": "python",
      "name": "python3"
    },
    "language_info": {
      "codemirror_mode": {
        "name": "ipython",
        "version": 3
      },
      "file_extension": ".py",
      "mimetype": "text/x-python",
      "name": "python",
      "nbconvert_exporter": "python",
      "pygments_lexer": "ipython3",
      "version": "3.12.7"
    }
  },
  "nbformat": 4,
  "nbformat_minor": 0
}